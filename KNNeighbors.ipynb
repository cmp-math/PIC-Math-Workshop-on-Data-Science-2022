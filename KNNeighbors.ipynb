{
  "nbformat": 4,
  "nbformat_minor": 0,
  "metadata": {
    "colab": {
      "name": "KNNeighbors.ipynb",
      "provenance": [],
      "collapsed_sections": [],
      "authorship_tag": "ABX9TyO9TPjg9wxx9W0bpFd5xS7+",
      "include_colab_link": true
    },
    "kernelspec": {
      "name": "python3",
      "display_name": "Python 3"
    },
    "language_info": {
      "name": "python"
    }
  },
  "cells": [
    {
      "cell_type": "markdown",
      "metadata": {
        "id": "view-in-github",
        "colab_type": "text"
      },
      "source": [
        "<a href=\"https://colab.research.google.com/github/cmp-math/PIC-Math-Workshop-on-Data-Science-2022/blob/main/KNNeighbors.ipynb\" target=\"_parent\"><img src=\"https://colab.research.google.com/assets/colab-badge.svg\" alt=\"Open In Colab\"/></a>"
      ]
    },
    {
      "cell_type": "code",
      "execution_count": 18,
      "metadata": {
        "colab": {
          "base_uri": "https://localhost:8080/",
          "height": 442
        },
        "id": "J35h2fSwlw1L",
        "outputId": "194e8b7c-92a3-470a-ea08-317f4e0a4d9f"
      },
      "outputs": [
        {
          "output_type": "execute_result",
          "data": {
            "text/plain": [
              "           Formula Spacegroup  Formation Energy (eV)  E Above Hull (eV)  \\\n",
              "83   Li3Fe2(SiO4)2         Pc                 -2.556              0.069   \n",
              "159     Li3MnSi2O7       Pbnm                 -2.709              0.069   \n",
              "299   Li2Fe5Si5O16         P1                 -2.620              0.049   \n",
              "32     Li2MnSi4O11       C2/c                 -2.832              0.091   \n",
              "98       Li2CoSiO4         Pc                 -2.537              0.000   \n",
              "39       Li2FeSiO4         Pc                 -2.621              0.005   \n",
              "66   Li10Fe(SiO5)2       C2/m                 -2.476              0.055   \n",
              "164      Li3MnSiO5      P21nb                 -2.529              0.077   \n",
              "305   Li6Fe(SiO4)2         P1                 -2.595              0.063   \n",
              "213  Li2Fe(Si2O5)3       Cmce                 -2.918              0.067   \n",
              "\n",
              "     Band Gap (eV)  Nsites  Density (gm/cc)    Volume  Has Bandstructure  \\\n",
              "83           1.923      30            2.891   363.781                  1   \n",
              "159          1.472      52            2.895   559.694                  1   \n",
              "299          2.117      28            3.101   369.232                  1   \n",
              "32           1.370      36            2.868   413.524                  1   \n",
              "98           2.957      16            3.216   170.265                  1   \n",
              "39           3.027      16            3.073   174.862                  1   \n",
              "66           1.715      46            2.399   472.581                  1   \n",
              "164          0.235      40            2.798   436.412                  1   \n",
              "305          3.736      17            2.678   174.618                  1   \n",
              "213          3.155      96            2.527  1257.084                  0   \n",
              "\n",
              "    Crystal System    Li   Mn   Si     O   Fe   Co  Crystal System (#)  \n",
              "83      monoclinic   3.0  0.0  2.0   8.0  2.0  0.0                   0  \n",
              "159   orthorhombic   3.0  1.0  2.0   7.0  0.0  0.0                   1  \n",
              "299      triclinic   2.0  0.0  5.0  16.0  5.0  0.0                   2  \n",
              "32      monoclinic   2.0  1.0  4.0  11.0  0.0  0.0                   0  \n",
              "98      monoclinic   2.0  0.0  1.0   4.0  0.0  1.0                   0  \n",
              "39      monoclinic   2.0  0.0  1.0   4.0  1.0  0.0                   0  \n",
              "66      monoclinic  10.0  0.0  2.0  10.0  1.0  0.0                   0  \n",
              "164   orthorhombic   3.0  1.0  1.0   5.0  0.0  0.0                   1  \n",
              "305      triclinic   6.0  0.0  2.0   8.0  1.0  0.0                   2  \n",
              "213   orthorhombic   2.0  0.0  6.0  15.0  1.0  0.0                   1  "
            ],
            "text/html": [
              "\n",
              "  <div id=\"df-97aedac9-7e5b-458f-a700-e6940a2cdd5e\">\n",
              "    <div class=\"colab-df-container\">\n",
              "      <div>\n",
              "<style scoped>\n",
              "    .dataframe tbody tr th:only-of-type {\n",
              "        vertical-align: middle;\n",
              "    }\n",
              "\n",
              "    .dataframe tbody tr th {\n",
              "        vertical-align: top;\n",
              "    }\n",
              "\n",
              "    .dataframe thead th {\n",
              "        text-align: right;\n",
              "    }\n",
              "</style>\n",
              "<table border=\"1\" class=\"dataframe\">\n",
              "  <thead>\n",
              "    <tr style=\"text-align: right;\">\n",
              "      <th></th>\n",
              "      <th>Formula</th>\n",
              "      <th>Spacegroup</th>\n",
              "      <th>Formation Energy (eV)</th>\n",
              "      <th>E Above Hull (eV)</th>\n",
              "      <th>Band Gap (eV)</th>\n",
              "      <th>Nsites</th>\n",
              "      <th>Density (gm/cc)</th>\n",
              "      <th>Volume</th>\n",
              "      <th>Has Bandstructure</th>\n",
              "      <th>Crystal System</th>\n",
              "      <th>Li</th>\n",
              "      <th>Mn</th>\n",
              "      <th>Si</th>\n",
              "      <th>O</th>\n",
              "      <th>Fe</th>\n",
              "      <th>Co</th>\n",
              "      <th>Crystal System (#)</th>\n",
              "    </tr>\n",
              "  </thead>\n",
              "  <tbody>\n",
              "    <tr>\n",
              "      <th>83</th>\n",
              "      <td>Li3Fe2(SiO4)2</td>\n",
              "      <td>Pc</td>\n",
              "      <td>-2.556</td>\n",
              "      <td>0.069</td>\n",
              "      <td>1.923</td>\n",
              "      <td>30</td>\n",
              "      <td>2.891</td>\n",
              "      <td>363.781</td>\n",
              "      <td>1</td>\n",
              "      <td>monoclinic</td>\n",
              "      <td>3.0</td>\n",
              "      <td>0.0</td>\n",
              "      <td>2.0</td>\n",
              "      <td>8.0</td>\n",
              "      <td>2.0</td>\n",
              "      <td>0.0</td>\n",
              "      <td>0</td>\n",
              "    </tr>\n",
              "    <tr>\n",
              "      <th>159</th>\n",
              "      <td>Li3MnSi2O7</td>\n",
              "      <td>Pbnm</td>\n",
              "      <td>-2.709</td>\n",
              "      <td>0.069</td>\n",
              "      <td>1.472</td>\n",
              "      <td>52</td>\n",
              "      <td>2.895</td>\n",
              "      <td>559.694</td>\n",
              "      <td>1</td>\n",
              "      <td>orthorhombic</td>\n",
              "      <td>3.0</td>\n",
              "      <td>1.0</td>\n",
              "      <td>2.0</td>\n",
              "      <td>7.0</td>\n",
              "      <td>0.0</td>\n",
              "      <td>0.0</td>\n",
              "      <td>1</td>\n",
              "    </tr>\n",
              "    <tr>\n",
              "      <th>299</th>\n",
              "      <td>Li2Fe5Si5O16</td>\n",
              "      <td>P1</td>\n",
              "      <td>-2.620</td>\n",
              "      <td>0.049</td>\n",
              "      <td>2.117</td>\n",
              "      <td>28</td>\n",
              "      <td>3.101</td>\n",
              "      <td>369.232</td>\n",
              "      <td>1</td>\n",
              "      <td>triclinic</td>\n",
              "      <td>2.0</td>\n",
              "      <td>0.0</td>\n",
              "      <td>5.0</td>\n",
              "      <td>16.0</td>\n",
              "      <td>5.0</td>\n",
              "      <td>0.0</td>\n",
              "      <td>2</td>\n",
              "    </tr>\n",
              "    <tr>\n",
              "      <th>32</th>\n",
              "      <td>Li2MnSi4O11</td>\n",
              "      <td>C2/c</td>\n",
              "      <td>-2.832</td>\n",
              "      <td>0.091</td>\n",
              "      <td>1.370</td>\n",
              "      <td>36</td>\n",
              "      <td>2.868</td>\n",
              "      <td>413.524</td>\n",
              "      <td>1</td>\n",
              "      <td>monoclinic</td>\n",
              "      <td>2.0</td>\n",
              "      <td>1.0</td>\n",
              "      <td>4.0</td>\n",
              "      <td>11.0</td>\n",
              "      <td>0.0</td>\n",
              "      <td>0.0</td>\n",
              "      <td>0</td>\n",
              "    </tr>\n",
              "    <tr>\n",
              "      <th>98</th>\n",
              "      <td>Li2CoSiO4</td>\n",
              "      <td>Pc</td>\n",
              "      <td>-2.537</td>\n",
              "      <td>0.000</td>\n",
              "      <td>2.957</td>\n",
              "      <td>16</td>\n",
              "      <td>3.216</td>\n",
              "      <td>170.265</td>\n",
              "      <td>1</td>\n",
              "      <td>monoclinic</td>\n",
              "      <td>2.0</td>\n",
              "      <td>0.0</td>\n",
              "      <td>1.0</td>\n",
              "      <td>4.0</td>\n",
              "      <td>0.0</td>\n",
              "      <td>1.0</td>\n",
              "      <td>0</td>\n",
              "    </tr>\n",
              "    <tr>\n",
              "      <th>39</th>\n",
              "      <td>Li2FeSiO4</td>\n",
              "      <td>Pc</td>\n",
              "      <td>-2.621</td>\n",
              "      <td>0.005</td>\n",
              "      <td>3.027</td>\n",
              "      <td>16</td>\n",
              "      <td>3.073</td>\n",
              "      <td>174.862</td>\n",
              "      <td>1</td>\n",
              "      <td>monoclinic</td>\n",
              "      <td>2.0</td>\n",
              "      <td>0.0</td>\n",
              "      <td>1.0</td>\n",
              "      <td>4.0</td>\n",
              "      <td>1.0</td>\n",
              "      <td>0.0</td>\n",
              "      <td>0</td>\n",
              "    </tr>\n",
              "    <tr>\n",
              "      <th>66</th>\n",
              "      <td>Li10Fe(SiO5)2</td>\n",
              "      <td>C2/m</td>\n",
              "      <td>-2.476</td>\n",
              "      <td>0.055</td>\n",
              "      <td>1.715</td>\n",
              "      <td>46</td>\n",
              "      <td>2.399</td>\n",
              "      <td>472.581</td>\n",
              "      <td>1</td>\n",
              "      <td>monoclinic</td>\n",
              "      <td>10.0</td>\n",
              "      <td>0.0</td>\n",
              "      <td>2.0</td>\n",
              "      <td>10.0</td>\n",
              "      <td>1.0</td>\n",
              "      <td>0.0</td>\n",
              "      <td>0</td>\n",
              "    </tr>\n",
              "    <tr>\n",
              "      <th>164</th>\n",
              "      <td>Li3MnSiO5</td>\n",
              "      <td>P21nb</td>\n",
              "      <td>-2.529</td>\n",
              "      <td>0.077</td>\n",
              "      <td>0.235</td>\n",
              "      <td>40</td>\n",
              "      <td>2.798</td>\n",
              "      <td>436.412</td>\n",
              "      <td>1</td>\n",
              "      <td>orthorhombic</td>\n",
              "      <td>3.0</td>\n",
              "      <td>1.0</td>\n",
              "      <td>1.0</td>\n",
              "      <td>5.0</td>\n",
              "      <td>0.0</td>\n",
              "      <td>0.0</td>\n",
              "      <td>1</td>\n",
              "    </tr>\n",
              "    <tr>\n",
              "      <th>305</th>\n",
              "      <td>Li6Fe(SiO4)2</td>\n",
              "      <td>P1</td>\n",
              "      <td>-2.595</td>\n",
              "      <td>0.063</td>\n",
              "      <td>3.736</td>\n",
              "      <td>17</td>\n",
              "      <td>2.678</td>\n",
              "      <td>174.618</td>\n",
              "      <td>1</td>\n",
              "      <td>triclinic</td>\n",
              "      <td>6.0</td>\n",
              "      <td>0.0</td>\n",
              "      <td>2.0</td>\n",
              "      <td>8.0</td>\n",
              "      <td>1.0</td>\n",
              "      <td>0.0</td>\n",
              "      <td>2</td>\n",
              "    </tr>\n",
              "    <tr>\n",
              "      <th>213</th>\n",
              "      <td>Li2Fe(Si2O5)3</td>\n",
              "      <td>Cmce</td>\n",
              "      <td>-2.918</td>\n",
              "      <td>0.067</td>\n",
              "      <td>3.155</td>\n",
              "      <td>96</td>\n",
              "      <td>2.527</td>\n",
              "      <td>1257.084</td>\n",
              "      <td>0</td>\n",
              "      <td>orthorhombic</td>\n",
              "      <td>2.0</td>\n",
              "      <td>0.0</td>\n",
              "      <td>6.0</td>\n",
              "      <td>15.0</td>\n",
              "      <td>1.0</td>\n",
              "      <td>0.0</td>\n",
              "      <td>1</td>\n",
              "    </tr>\n",
              "  </tbody>\n",
              "</table>\n",
              "</div>\n",
              "      <button class=\"colab-df-convert\" onclick=\"convertToInteractive('df-97aedac9-7e5b-458f-a700-e6940a2cdd5e')\"\n",
              "              title=\"Convert this dataframe to an interactive table.\"\n",
              "              style=\"display:none;\">\n",
              "        \n",
              "  <svg xmlns=\"http://www.w3.org/2000/svg\" height=\"24px\"viewBox=\"0 0 24 24\"\n",
              "       width=\"24px\">\n",
              "    <path d=\"M0 0h24v24H0V0z\" fill=\"none\"/>\n",
              "    <path d=\"M18.56 5.44l.94 2.06.94-2.06 2.06-.94-2.06-.94-.94-2.06-.94 2.06-2.06.94zm-11 1L8.5 8.5l.94-2.06 2.06-.94-2.06-.94L8.5 2.5l-.94 2.06-2.06.94zm10 10l.94 2.06.94-2.06 2.06-.94-2.06-.94-.94-2.06-.94 2.06-2.06.94z\"/><path d=\"M17.41 7.96l-1.37-1.37c-.4-.4-.92-.59-1.43-.59-.52 0-1.04.2-1.43.59L10.3 9.45l-7.72 7.72c-.78.78-.78 2.05 0 2.83L4 21.41c.39.39.9.59 1.41.59.51 0 1.02-.2 1.41-.59l7.78-7.78 2.81-2.81c.8-.78.8-2.07 0-2.86zM5.41 20L4 18.59l7.72-7.72 1.47 1.35L5.41 20z\"/>\n",
              "  </svg>\n",
              "      </button>\n",
              "      \n",
              "  <style>\n",
              "    .colab-df-container {\n",
              "      display:flex;\n",
              "      flex-wrap:wrap;\n",
              "      gap: 12px;\n",
              "    }\n",
              "\n",
              "    .colab-df-convert {\n",
              "      background-color: #E8F0FE;\n",
              "      border: none;\n",
              "      border-radius: 50%;\n",
              "      cursor: pointer;\n",
              "      display: none;\n",
              "      fill: #1967D2;\n",
              "      height: 32px;\n",
              "      padding: 0 0 0 0;\n",
              "      width: 32px;\n",
              "    }\n",
              "\n",
              "    .colab-df-convert:hover {\n",
              "      background-color: #E2EBFA;\n",
              "      box-shadow: 0px 1px 2px rgba(60, 64, 67, 0.3), 0px 1px 3px 1px rgba(60, 64, 67, 0.15);\n",
              "      fill: #174EA6;\n",
              "    }\n",
              "\n",
              "    [theme=dark] .colab-df-convert {\n",
              "      background-color: #3B4455;\n",
              "      fill: #D2E3FC;\n",
              "    }\n",
              "\n",
              "    [theme=dark] .colab-df-convert:hover {\n",
              "      background-color: #434B5C;\n",
              "      box-shadow: 0px 1px 3px 1px rgba(0, 0, 0, 0.15);\n",
              "      filter: drop-shadow(0px 1px 2px rgba(0, 0, 0, 0.3));\n",
              "      fill: #FFFFFF;\n",
              "    }\n",
              "  </style>\n",
              "\n",
              "      <script>\n",
              "        const buttonEl =\n",
              "          document.querySelector('#df-97aedac9-7e5b-458f-a700-e6940a2cdd5e button.colab-df-convert');\n",
              "        buttonEl.style.display =\n",
              "          google.colab.kernel.accessAllowed ? 'block' : 'none';\n",
              "\n",
              "        async function convertToInteractive(key) {\n",
              "          const element = document.querySelector('#df-97aedac9-7e5b-458f-a700-e6940a2cdd5e');\n",
              "          const dataTable =\n",
              "            await google.colab.kernel.invokeFunction('convertToInteractive',\n",
              "                                                     [key], {});\n",
              "          if (!dataTable) return;\n",
              "\n",
              "          const docLinkHtml = 'Like what you see? Visit the ' +\n",
              "            '<a target=\"_blank\" href=https://colab.research.google.com/notebooks/data_table.ipynb>data table notebook</a>'\n",
              "            + ' to learn more about interactive tables.';\n",
              "          element.innerHTML = '';\n",
              "          dataTable['output_type'] = 'display_data';\n",
              "          await google.colab.output.renderOutput(dataTable, element);\n",
              "          const docLink = document.createElement('div');\n",
              "          docLink.innerHTML = docLinkHtml;\n",
              "          element.appendChild(docLink);\n",
              "        }\n",
              "      </script>\n",
              "    </div>\n",
              "  </div>\n",
              "  "
            ]
          },
          "metadata": {},
          "execution_count": 18
        }
      ],
      "source": [
        "import numpy as np\n",
        "import pandas as pa\n",
        "import sklearn\n",
        "import matplotlib.pylab as py\n",
        "from mpl_toolkits.mplot3d import Axes3D\n",
        "from matplotlib.colors import ListedColormap\n",
        "\n",
        "try:\n",
        "    import chemparse\n",
        "except:\n",
        "    !pip install chemparse\n",
        "    print('May need to restart kernel to use chemparse')\n",
        "\n",
        "import pandas as pd\n",
        "url = 'https://raw.githubusercontent.com/rcpaffenroth/PIC-Math-Workshop-on-Data-Science-2022/main/data/lithium_ion_data.csv'\n",
        "data = pd.read_csv(url)\n",
        "data.drop(columns=['Materials Id'],inplace=True)\n",
        "data['Has Bandstructure'] = data['Has Bandstructure'].map({True:1, False:0})\n",
        "\n",
        "import chemparse\n",
        "chem_data = data['Formula'].apply(chemparse.parse_formula)\n",
        "\n",
        "# Convert the dictionary into a dataframe and fill NaN's with zero's\n",
        "chem_data = pd.json_normalize(chem_data)\n",
        "chem_data = chem_data.fillna(0)\n",
        "\n",
        "data = data.join(chem_data)\n",
        "data['Crystal System (#)'] = data['Crystal System'].map({'monoclinic':0, 'orthorhombic':1, 'triclinic':2})\n",
        "data.sample(10)"
      ]
    },
    {
      "cell_type": "code",
      "source": [
        "monoclinic_data=data[data['Crystal System'] == 'monoclinic']\n",
        "orthorhombic_data=data[data['Crystal System'] == 'orthorhombic']\n",
        "triclinic_data=data[data['Crystal System'] == 'triclinic']\n",
        "\n",
        "monoclinic_data_sampled = monoclinic_data.sample(n=len(triclinic_data))\n",
        "orthorhombic_data_sampled = orthorhombic_data.sample(n=len(triclinic_data))\n",
        "\n",
        "data_rebalanced=triclinic_data.append(monoclinic_data_sampled).append(orthorhombic_data_sampled).reset_index(drop=True)\n",
        "\n",
        "ord_feat = ['Formation Energy (eV)','E Above Hull (eV)','Band Gap (eV)',\n",
        "            'Nsites','Density (gm/cc)','Volume','Has Bandstructure',\n",
        "            'Li','Mn','Si','O','Fe','Co'\n",
        "           ]\n",
        "\n",
        "\n",
        "X = np.array(data_rebalanced[ord_feat])\n",
        "y = np.array(data_rebalanced['Crystal System (#)'])\n",
        "data_rebalanced.sample(10) \n"
      ],
      "metadata": {
        "colab": {
          "base_uri": "https://localhost:8080/",
          "height": 442
        },
        "id": "bXN7Ruk0O7Rz",
        "outputId": "fb970f35-11f0-4761-db9b-e3e1b9aedacf"
      },
      "execution_count": 19,
      "outputs": [
        {
          "output_type": "execute_result",
          "data": {
            "text/plain": [
              "           Formula Spacegroup  Formation Energy (eV)  E Above Hull (eV)  \\\n",
              "47    Li5Fe5Si7O24         P1                 -2.646              0.073   \n",
              "142       LiCoSiO4         Pc                 -2.349              0.086   \n",
              "8    Li2Mn(Si2O5)2         P1                 -2.958              0.054   \n",
              "159       LiFeSiO4      Pna21                 -2.587              0.035   \n",
              "215       LiFeSiO4       Pbnm                 -2.611              0.010   \n",
              "213       LiFeSiO4      P21nb                 -2.566              0.055   \n",
              "106   LiFe(Si2O5)2       P2/c                 -2.985              0.009   \n",
              "146   LiFe(Si3O7)2       Icma                 -2.981              0.093   \n",
              "165  Li2Fe2(SiO3)3       Pnma                 -2.690              0.077   \n",
              "120       LiFeSiO4      P21/c                 -2.562              0.059   \n",
              "\n",
              "     Band Gap (eV)  Nsites  Density (gm/cc)    Volume  Has Bandstructure  \\\n",
              "47           2.391      41            2.550   582.533                  1   \n",
              "142          1.474      14            3.096   169.421                  1   \n",
              "8            3.036      34            2.633   430.361                  1   \n",
              "159          1.675      84            3.644   846.947                  1   \n",
              "215          2.300      28            3.563   288.720                  1   \n",
              "213          2.630      28            2.882   356.872                  1   \n",
              "106          3.362      32            2.430   457.962                  0   \n",
              "146          2.647      88            2.807  1077.384                  0   \n",
              "165          3.087      64            3.128   751.301                  1   \n",
              "120          2.871      28            2.843   361.839                  1   \n",
              "\n",
              "    Crystal System   Li   Mn   Si     O   Fe   Co  Crystal System (#)  \n",
              "47       triclinic  5.0  0.0  7.0  24.0  5.0  0.0                   2  \n",
              "142     monoclinic  1.0  0.0  1.0   4.0  0.0  1.0                   0  \n",
              "8        triclinic  2.0  1.0  4.0  10.0  0.0  0.0                   2  \n",
              "159   orthorhombic  1.0  0.0  1.0   4.0  1.0  0.0                   1  \n",
              "215   orthorhombic  1.0  0.0  1.0   4.0  1.0  0.0                   1  \n",
              "213   orthorhombic  1.0  0.0  1.0   4.0  1.0  0.0                   1  \n",
              "106     monoclinic  1.0  0.0  4.0  10.0  1.0  0.0                   0  \n",
              "146   orthorhombic  1.0  0.0  6.0  14.0  1.0  0.0                   1  \n",
              "165   orthorhombic  2.0  0.0  3.0   9.0  2.0  0.0                   1  \n",
              "120     monoclinic  1.0  0.0  1.0   4.0  1.0  0.0                   0  "
            ],
            "text/html": [
              "\n",
              "  <div id=\"df-885ac693-4191-4d74-b975-993c1ca2ad15\">\n",
              "    <div class=\"colab-df-container\">\n",
              "      <div>\n",
              "<style scoped>\n",
              "    .dataframe tbody tr th:only-of-type {\n",
              "        vertical-align: middle;\n",
              "    }\n",
              "\n",
              "    .dataframe tbody tr th {\n",
              "        vertical-align: top;\n",
              "    }\n",
              "\n",
              "    .dataframe thead th {\n",
              "        text-align: right;\n",
              "    }\n",
              "</style>\n",
              "<table border=\"1\" class=\"dataframe\">\n",
              "  <thead>\n",
              "    <tr style=\"text-align: right;\">\n",
              "      <th></th>\n",
              "      <th>Formula</th>\n",
              "      <th>Spacegroup</th>\n",
              "      <th>Formation Energy (eV)</th>\n",
              "      <th>E Above Hull (eV)</th>\n",
              "      <th>Band Gap (eV)</th>\n",
              "      <th>Nsites</th>\n",
              "      <th>Density (gm/cc)</th>\n",
              "      <th>Volume</th>\n",
              "      <th>Has Bandstructure</th>\n",
              "      <th>Crystal System</th>\n",
              "      <th>Li</th>\n",
              "      <th>Mn</th>\n",
              "      <th>Si</th>\n",
              "      <th>O</th>\n",
              "      <th>Fe</th>\n",
              "      <th>Co</th>\n",
              "      <th>Crystal System (#)</th>\n",
              "    </tr>\n",
              "  </thead>\n",
              "  <tbody>\n",
              "    <tr>\n",
              "      <th>47</th>\n",
              "      <td>Li5Fe5Si7O24</td>\n",
              "      <td>P1</td>\n",
              "      <td>-2.646</td>\n",
              "      <td>0.073</td>\n",
              "      <td>2.391</td>\n",
              "      <td>41</td>\n",
              "      <td>2.550</td>\n",
              "      <td>582.533</td>\n",
              "      <td>1</td>\n",
              "      <td>triclinic</td>\n",
              "      <td>5.0</td>\n",
              "      <td>0.0</td>\n",
              "      <td>7.0</td>\n",
              "      <td>24.0</td>\n",
              "      <td>5.0</td>\n",
              "      <td>0.0</td>\n",
              "      <td>2</td>\n",
              "    </tr>\n",
              "    <tr>\n",
              "      <th>142</th>\n",
              "      <td>LiCoSiO4</td>\n",
              "      <td>Pc</td>\n",
              "      <td>-2.349</td>\n",
              "      <td>0.086</td>\n",
              "      <td>1.474</td>\n",
              "      <td>14</td>\n",
              "      <td>3.096</td>\n",
              "      <td>169.421</td>\n",
              "      <td>1</td>\n",
              "      <td>monoclinic</td>\n",
              "      <td>1.0</td>\n",
              "      <td>0.0</td>\n",
              "      <td>1.0</td>\n",
              "      <td>4.0</td>\n",
              "      <td>0.0</td>\n",
              "      <td>1.0</td>\n",
              "      <td>0</td>\n",
              "    </tr>\n",
              "    <tr>\n",
              "      <th>8</th>\n",
              "      <td>Li2Mn(Si2O5)2</td>\n",
              "      <td>P1</td>\n",
              "      <td>-2.958</td>\n",
              "      <td>0.054</td>\n",
              "      <td>3.036</td>\n",
              "      <td>34</td>\n",
              "      <td>2.633</td>\n",
              "      <td>430.361</td>\n",
              "      <td>1</td>\n",
              "      <td>triclinic</td>\n",
              "      <td>2.0</td>\n",
              "      <td>1.0</td>\n",
              "      <td>4.0</td>\n",
              "      <td>10.0</td>\n",
              "      <td>0.0</td>\n",
              "      <td>0.0</td>\n",
              "      <td>2</td>\n",
              "    </tr>\n",
              "    <tr>\n",
              "      <th>159</th>\n",
              "      <td>LiFeSiO4</td>\n",
              "      <td>Pna21</td>\n",
              "      <td>-2.587</td>\n",
              "      <td>0.035</td>\n",
              "      <td>1.675</td>\n",
              "      <td>84</td>\n",
              "      <td>3.644</td>\n",
              "      <td>846.947</td>\n",
              "      <td>1</td>\n",
              "      <td>orthorhombic</td>\n",
              "      <td>1.0</td>\n",
              "      <td>0.0</td>\n",
              "      <td>1.0</td>\n",
              "      <td>4.0</td>\n",
              "      <td>1.0</td>\n",
              "      <td>0.0</td>\n",
              "      <td>1</td>\n",
              "    </tr>\n",
              "    <tr>\n",
              "      <th>215</th>\n",
              "      <td>LiFeSiO4</td>\n",
              "      <td>Pbnm</td>\n",
              "      <td>-2.611</td>\n",
              "      <td>0.010</td>\n",
              "      <td>2.300</td>\n",
              "      <td>28</td>\n",
              "      <td>3.563</td>\n",
              "      <td>288.720</td>\n",
              "      <td>1</td>\n",
              "      <td>orthorhombic</td>\n",
              "      <td>1.0</td>\n",
              "      <td>0.0</td>\n",
              "      <td>1.0</td>\n",
              "      <td>4.0</td>\n",
              "      <td>1.0</td>\n",
              "      <td>0.0</td>\n",
              "      <td>1</td>\n",
              "    </tr>\n",
              "    <tr>\n",
              "      <th>213</th>\n",
              "      <td>LiFeSiO4</td>\n",
              "      <td>P21nb</td>\n",
              "      <td>-2.566</td>\n",
              "      <td>0.055</td>\n",
              "      <td>2.630</td>\n",
              "      <td>28</td>\n",
              "      <td>2.882</td>\n",
              "      <td>356.872</td>\n",
              "      <td>1</td>\n",
              "      <td>orthorhombic</td>\n",
              "      <td>1.0</td>\n",
              "      <td>0.0</td>\n",
              "      <td>1.0</td>\n",
              "      <td>4.0</td>\n",
              "      <td>1.0</td>\n",
              "      <td>0.0</td>\n",
              "      <td>1</td>\n",
              "    </tr>\n",
              "    <tr>\n",
              "      <th>106</th>\n",
              "      <td>LiFe(Si2O5)2</td>\n",
              "      <td>P2/c</td>\n",
              "      <td>-2.985</td>\n",
              "      <td>0.009</td>\n",
              "      <td>3.362</td>\n",
              "      <td>32</td>\n",
              "      <td>2.430</td>\n",
              "      <td>457.962</td>\n",
              "      <td>0</td>\n",
              "      <td>monoclinic</td>\n",
              "      <td>1.0</td>\n",
              "      <td>0.0</td>\n",
              "      <td>4.0</td>\n",
              "      <td>10.0</td>\n",
              "      <td>1.0</td>\n",
              "      <td>0.0</td>\n",
              "      <td>0</td>\n",
              "    </tr>\n",
              "    <tr>\n",
              "      <th>146</th>\n",
              "      <td>LiFe(Si3O7)2</td>\n",
              "      <td>Icma</td>\n",
              "      <td>-2.981</td>\n",
              "      <td>0.093</td>\n",
              "      <td>2.647</td>\n",
              "      <td>88</td>\n",
              "      <td>2.807</td>\n",
              "      <td>1077.384</td>\n",
              "      <td>0</td>\n",
              "      <td>orthorhombic</td>\n",
              "      <td>1.0</td>\n",
              "      <td>0.0</td>\n",
              "      <td>6.0</td>\n",
              "      <td>14.0</td>\n",
              "      <td>1.0</td>\n",
              "      <td>0.0</td>\n",
              "      <td>1</td>\n",
              "    </tr>\n",
              "    <tr>\n",
              "      <th>165</th>\n",
              "      <td>Li2Fe2(SiO3)3</td>\n",
              "      <td>Pnma</td>\n",
              "      <td>-2.690</td>\n",
              "      <td>0.077</td>\n",
              "      <td>3.087</td>\n",
              "      <td>64</td>\n",
              "      <td>3.128</td>\n",
              "      <td>751.301</td>\n",
              "      <td>1</td>\n",
              "      <td>orthorhombic</td>\n",
              "      <td>2.0</td>\n",
              "      <td>0.0</td>\n",
              "      <td>3.0</td>\n",
              "      <td>9.0</td>\n",
              "      <td>2.0</td>\n",
              "      <td>0.0</td>\n",
              "      <td>1</td>\n",
              "    </tr>\n",
              "    <tr>\n",
              "      <th>120</th>\n",
              "      <td>LiFeSiO4</td>\n",
              "      <td>P21/c</td>\n",
              "      <td>-2.562</td>\n",
              "      <td>0.059</td>\n",
              "      <td>2.871</td>\n",
              "      <td>28</td>\n",
              "      <td>2.843</td>\n",
              "      <td>361.839</td>\n",
              "      <td>1</td>\n",
              "      <td>monoclinic</td>\n",
              "      <td>1.0</td>\n",
              "      <td>0.0</td>\n",
              "      <td>1.0</td>\n",
              "      <td>4.0</td>\n",
              "      <td>1.0</td>\n",
              "      <td>0.0</td>\n",
              "      <td>0</td>\n",
              "    </tr>\n",
              "  </tbody>\n",
              "</table>\n",
              "</div>\n",
              "      <button class=\"colab-df-convert\" onclick=\"convertToInteractive('df-885ac693-4191-4d74-b975-993c1ca2ad15')\"\n",
              "              title=\"Convert this dataframe to an interactive table.\"\n",
              "              style=\"display:none;\">\n",
              "        \n",
              "  <svg xmlns=\"http://www.w3.org/2000/svg\" height=\"24px\"viewBox=\"0 0 24 24\"\n",
              "       width=\"24px\">\n",
              "    <path d=\"M0 0h24v24H0V0z\" fill=\"none\"/>\n",
              "    <path d=\"M18.56 5.44l.94 2.06.94-2.06 2.06-.94-2.06-.94-.94-2.06-.94 2.06-2.06.94zm-11 1L8.5 8.5l.94-2.06 2.06-.94-2.06-.94L8.5 2.5l-.94 2.06-2.06.94zm10 10l.94 2.06.94-2.06 2.06-.94-2.06-.94-.94-2.06-.94 2.06-2.06.94z\"/><path d=\"M17.41 7.96l-1.37-1.37c-.4-.4-.92-.59-1.43-.59-.52 0-1.04.2-1.43.59L10.3 9.45l-7.72 7.72c-.78.78-.78 2.05 0 2.83L4 21.41c.39.39.9.59 1.41.59.51 0 1.02-.2 1.41-.59l7.78-7.78 2.81-2.81c.8-.78.8-2.07 0-2.86zM5.41 20L4 18.59l7.72-7.72 1.47 1.35L5.41 20z\"/>\n",
              "  </svg>\n",
              "      </button>\n",
              "      \n",
              "  <style>\n",
              "    .colab-df-container {\n",
              "      display:flex;\n",
              "      flex-wrap:wrap;\n",
              "      gap: 12px;\n",
              "    }\n",
              "\n",
              "    .colab-df-convert {\n",
              "      background-color: #E8F0FE;\n",
              "      border: none;\n",
              "      border-radius: 50%;\n",
              "      cursor: pointer;\n",
              "      display: none;\n",
              "      fill: #1967D2;\n",
              "      height: 32px;\n",
              "      padding: 0 0 0 0;\n",
              "      width: 32px;\n",
              "    }\n",
              "\n",
              "    .colab-df-convert:hover {\n",
              "      background-color: #E2EBFA;\n",
              "      box-shadow: 0px 1px 2px rgba(60, 64, 67, 0.3), 0px 1px 3px 1px rgba(60, 64, 67, 0.15);\n",
              "      fill: #174EA6;\n",
              "    }\n",
              "\n",
              "    [theme=dark] .colab-df-convert {\n",
              "      background-color: #3B4455;\n",
              "      fill: #D2E3FC;\n",
              "    }\n",
              "\n",
              "    [theme=dark] .colab-df-convert:hover {\n",
              "      background-color: #434B5C;\n",
              "      box-shadow: 0px 1px 3px 1px rgba(0, 0, 0, 0.15);\n",
              "      filter: drop-shadow(0px 1px 2px rgba(0, 0, 0, 0.3));\n",
              "      fill: #FFFFFF;\n",
              "    }\n",
              "  </style>\n",
              "\n",
              "      <script>\n",
              "        const buttonEl =\n",
              "          document.querySelector('#df-885ac693-4191-4d74-b975-993c1ca2ad15 button.colab-df-convert');\n",
              "        buttonEl.style.display =\n",
              "          google.colab.kernel.accessAllowed ? 'block' : 'none';\n",
              "\n",
              "        async function convertToInteractive(key) {\n",
              "          const element = document.querySelector('#df-885ac693-4191-4d74-b975-993c1ca2ad15');\n",
              "          const dataTable =\n",
              "            await google.colab.kernel.invokeFunction('convertToInteractive',\n",
              "                                                     [key], {});\n",
              "          if (!dataTable) return;\n",
              "\n",
              "          const docLinkHtml = 'Like what you see? Visit the ' +\n",
              "            '<a target=\"_blank\" href=https://colab.research.google.com/notebooks/data_table.ipynb>data table notebook</a>'\n",
              "            + ' to learn more about interactive tables.';\n",
              "          element.innerHTML = '';\n",
              "          dataTable['output_type'] = 'display_data';\n",
              "          await google.colab.output.renderOutput(dataTable, element);\n",
              "          const docLink = document.createElement('div');\n",
              "          docLink.innerHTML = docLinkHtml;\n",
              "          element.appendChild(docLink);\n",
              "        }\n",
              "      </script>\n",
              "    </div>\n",
              "  </div>\n",
              "  "
            ]
          },
          "metadata": {},
          "execution_count": 19
        }
      ]
    },
    {
      "cell_type": "code",
      "source": [
        "%matplotlib inline"
      ],
      "metadata": {
        "id": "ghn8oC66mEjI"
      },
      "execution_count": 20,
      "outputs": []
    },
    {
      "cell_type": "code",
      "source": [
        "# # Import the K-NN solver\n",
        "from sklearn import neighbors\n",
        "clf = neighbors.KNeighborsClassifier(n_neighbors=25)"
      ],
      "metadata": {
        "id": "ZHJBHIdImMTc"
      },
      "execution_count": 34,
      "outputs": []
    },
    {
      "cell_type": "code",
      "source": [
        "# This is the one complicated bit of code in the whole demo.  There is no need to modify it, but please feel free if you want!\n",
        "def runTest(clf,X,y,trainingPercent=0.66,plotTest=True):\n",
        "    # A little cheat to make the pictures consistent\n",
        "    np.random.seed(1234)\n",
        "    \n",
        "    # If there is one thing that I want to harp on, it is the difference\n",
        "    # between testing and training errors!  So, here we create a training\n",
        "    # set on which we computer the parameters of our algorithm, and a \n",
        "    # testing set for seeing how well we generalize (and work on real \n",
        "    # world problems).\n",
        "    perm = np.random.permutation(len(y))\n",
        "    n = X.shape[0]\n",
        "    trainSize = int(trainingPercent*n)\n",
        "    Xtrain = X[perm[:trainSize],0:2]\n",
        "    Xtest = X[perm[trainSize:],0:2]\n",
        "\n",
        "    yHat = y\n",
        "    yHattrain = yHat[perm[:trainSize]]\n",
        "    yHattest = yHat[perm[trainSize:]]\n",
        "\n",
        "    # Run the calculation!\n",
        "    clf.fit(Xtrain, yHattrain)\n",
        "    \n",
        "    # step size in the mesh for plotting the decision boundary.\n",
        "    h = .02  \n",
        "    # Plot the decision boundary. For that, we will assign a color to each\n",
        "    # point in the mesh [x_min, m_max]x[y_min, y_max].\n",
        "    x_min, x_max = X[:, 0].min() - 1, X[:, 0].max() + 1\n",
        "    y_min, y_max = X[:, 1].min() - 1, X[:, 1].max() + 1\n",
        "    xx, yy = np.meshgrid(np.arange(x_min, x_max, h),\n",
        "                             np.arange(y_min, y_max, h))\n",
        "    Z = clf.predict(np.c_[xx.ravel(), yy.ravel()])\n",
        "\n",
        "    # Put the result into a color plot\n",
        "    Z = Z.reshape(xx.shape)\n",
        "\n",
        "    py.figure(figsize=(8, 6))\n",
        "    cmap_light = ListedColormap(['#FFAAAA', '#AAFFAA', '#AAAAFF'])\n",
        "    cmap_bold = ListedColormap(['#FF0000', '#00FF00', '#0000FF'])\n",
        "    py.pcolormesh(xx, yy, Z, cmap=cmap_light, shading='auto')\n",
        "\n",
        "    # Plot also the training points\n",
        "    py.scatter(Xtrain[:, 0], Xtrain[:, 1], c=yHattrain, cmap=cmap_bold,marker='o')\n",
        "    if plotTest:\n",
        "        py.scatter(Xtest[:, 0], Xtest[:, 1], c=yHattest, cmap=cmap_bold,marker='+')\n",
        "    py.xlim(xx.min(), xx.max())\n",
        "    py.ylim(yy.min(), yy.max())\n",
        "    # py.show()\n",
        "\n",
        "    # Print out some metrics\n",
        "    print('training score',clf.score(Xtrain,yHattrain))\n",
        "    print('testing score',clf.score(Xtest,yHattest))"
      ],
      "metadata": {
        "id": "b1mZFRUqmUvV"
      },
      "execution_count": 22,
      "outputs": []
    },
    {
      "cell_type": "code",
      "source": [
        "# Plot KNearestNeighbors\n",
        "runTest(clf,X,y,plotTest=False)\n",
        "import matplotlib.pyplot as plt\n",
        "\n",
        "plt.ylim((-0.1,0.2))\n",
        "plt.xlim((-3.1,-2.0))"
      ],
      "metadata": {
        "colab": {
          "base_uri": "https://localhost:8080/",
          "height": 433
        },
        "id": "syzCWSA_o-s8",
        "outputId": "ee649cf5-cc4b-4740-a9ee-e36dfb44351b"
      },
      "execution_count": 23,
      "outputs": [
        {
          "output_type": "stream",
          "name": "stdout",
          "text": [
            "training score 0.647887323943662\n",
            "testing score 0.5135135135135135\n"
          ]
        },
        {
          "output_type": "execute_result",
          "data": {
            "text/plain": [
              "(-3.1, -2.0)"
            ]
          },
          "metadata": {},
          "execution_count": 23
        },
        {
          "output_type": "display_data",
          "data": {
            "text/plain": [
              "<Figure size 576x432 with 1 Axes>"
            ],
            "image/png": "[encoded data removed]"
          },
          "metadata": {
            "needs_background": "light"
          }
        }
      ]
    },
    {
      "cell_type": "code",
      "source": [
        "# Plot KNearestNeighbors\n",
        "data_rebalanced['Spacegroup (ordinal)'] = pd.factorize(data_rebalanced['Spacegroup'])[0]\n",
        "\n",
        "ord_feat = ['Formation Energy (eV)','E Above Hull (eV)','Band Gap (eV)',\n",
        "            'Nsites','Density (gm/cc)','Volume','Has Bandstructure',\n",
        "            'Spacegroup (ordinal)','Li','Mn','Si','O','Fe','Co'\n",
        "           ]\n",
        "\n",
        "X = np.array(data_rebalanced[ord_feat])\n",
        "y = np.array(data_rebalanced['Crystal System (#)'])\n",
        "data_rebalanced.sample(10) \n",
        "runTest(clf,X,y,plotTest=False)\n",
        "\n",
        "#import matplotlib.pyplot as plt\n",
        "\n",
        "plt.ylim((-0.1,0.2))\n",
        "plt.xlim((-3.1,-2.0))"
      ],
      "metadata": {
        "colab": {
          "base_uri": "https://localhost:8080/",
          "height": 433
        },
        "id": "WjoQFx8oo_Jc",
        "outputId": "30ebe367-f756-4dc3-cf85-0850ac9d7d9f"
      },
      "execution_count": 33,
      "outputs": [
        {
          "output_type": "stream",
          "name": "stdout",
          "text": [
            "training score 0.4295774647887324\n",
            "testing score 0.32432432432432434\n"
          ]
        },
        {
          "output_type": "execute_result",
          "data": {
            "text/plain": [
              "(-3.1, -2.0)"
            ]
          },
          "metadata": {},
          "execution_count": 33
        },
        {
          "output_type": "display_data",
          "data": {
            "text/plain": [
              "<Figure size 576x432 with 1 Axes>"
            ],
            "image/png": "[encoded data removed]"
          },
          "metadata": {
            "needs_background": "light"
          }
        }
      ]
    },
    {
      "cell_type": "code",
      "source": [
        "# Plot KNearestNeighbors\n",
        "clf = neighbors.KNeighborsClassifier(n_neighbors=14)\n",
        "data_rebalanced['Spacegroup (ordinal)'] = pd.factorize(data_rebalanced['Spacegroup'])[0]\n",
        "\n",
        "ord_feat = ['Spacegroup (ordinal)','Formation Energy (eV)','E Above Hull (eV)','Band Gap (eV)',\n",
        "            'Nsites','Density (gm/cc)','Volume','Has Bandstructure',\n",
        "            'Li','Mn','Si','O','Fe','Co'\n",
        "           ]\n",
        "\n",
        "X = np.array(data_rebalanced[ord_feat])\n",
        "y = np.array(data_rebalanced['Crystal System (#)'])\n",
        "data_rebalanced.sample(10) \n",
        "runTest(clf,X,y,plotTest=False)\n",
        "\n",
        "#import matplotlib.pyplot as plt\n",
        "\n",
        "#plt.ylim((-0.1,0.2))\n",
        "#plt.xlim((-3.1,-2.0))"
      ],
      "metadata": {
        "colab": {
          "base_uri": "https://localhost:8080/",
          "height": 411
        },
        "id": "tANhAQB2e2VM",
        "outputId": "862a58bb-5f2b-4266-e221-fc0eec40c7fe"
      },
      "execution_count": 25,
      "outputs": [
        {
          "output_type": "stream",
          "name": "stdout",
          "text": [
            "training score 0.9929577464788732\n",
            "testing score 0.9864864864864865\n"
          ]
        },
        {
          "output_type": "display_data",
          "data": {
            "text/plain": [
              "<Figure size 576x432 with 1 Axes>"
            ],
            "image/png": "[encoded data removed]"
          },
          "metadata": {
            "needs_background": "light"
          }
        }
      ]
    },
    {
      "cell_type": "code",
      "source": [
        "# Plot KNearestNeighbors\n",
        "data_rebalanced['Spacegroup (ordinal)'] = pd.factorize(data_rebalanced['Spacegroup'])[0]\n",
        "\n",
        "ord_feat = ['Spacegroup (ordinal)','Li']\n",
        "\n",
        "X = np.array(data_rebalanced[ord_feat])\n",
        "y = np.array(data_rebalanced['Crystal System (#)'])\n",
        "data_rebalanced.sample(10) \n",
        "runTest(clf,X,y,plotTest=False)\n",
        "\n",
        "#import matplotlib.pyplot as plt\n",
        "\n",
        "#plt.ylim((-0.1,0.2))\n",
        "#plt.xlim((-3.1,-2.0))"
      ],
      "metadata": {
        "colab": {
          "base_uri": "https://localhost:8080/",
          "height": 411
        },
        "id": "BAy6EqdCU8DT",
        "outputId": "a59d1f06-ebc0-45ff-c036-0eb468ac47e4"
      },
      "execution_count": 26,
      "outputs": [
        {
          "output_type": "stream",
          "name": "stdout",
          "text": [
            "training score 0.9577464788732394\n",
            "testing score 0.972972972972973\n"
          ]
        },
        {
          "output_type": "display_data",
          "data": {
            "text/plain": [
              "<Figure size 576x432 with 1 Axes>"
            ],
            "image/png": "[encoded data removed]"
          },
          "metadata": {
            "needs_background": "light"
          }
        }
      ]
    },
    {
      "cell_type": "code",
      "source": [
        "# Plot KNearestNeighbors\n",
        "data_rebalanced.sort_values(by = 'Volume',ascending = True)\n",
        "data_rebalanced['Spacegroup (ordinal)'] = pd.factorize(data_rebalanced['Spacegroup'])[0]\n",
        "\n",
        "ord_feat = ['Fe','Co','Li','Mn','Si','O']\n",
        "\n",
        "X = np.array(data_rebalanced[ord_feat])\n",
        "y = np.array(data_rebalanced['Crystal System (#)'])\n",
        "runTest(clf,X,y,plotTest=False)\n",
        "\n",
        "#import matplotlib.pyplot as plt\n",
        "\n",
        "#plt.ylim((-0.1,0.2))\n",
        "#plt.xlim((-3.1,-2.0))"
      ],
      "metadata": {
        "colab": {
          "base_uri": "https://localhost:8080/",
          "height": 411
        },
        "id": "Y6QRzhrJWU7t",
        "outputId": "c61a4d14-3b40-486e-8b3f-de3049691b84"
      },
      "execution_count": 27,
      "outputs": [
        {
          "output_type": "stream",
          "name": "stdout",
          "text": [
            "training score 0.4647887323943662\n",
            "testing score 0.4864864864864865\n"
          ]
        },
        {
          "output_type": "display_data",
          "data": {
            "text/plain": [
              "<Figure size 576x432 with 1 Axes>"
            ],
            "image/png": "[encoded data removed]"
          },
          "metadata": {
            "needs_background": "light"
          }
        }
      ]
    },
    {
      "cell_type": "code",
      "source": [
        "\n",
        "ord_feat = ['Mn','Si','O','Fe','Co','Li']\n",
        "\n",
        "X = np.array(data_rebalanced[ord_feat])\n",
        "y = np.array(data_rebalanced['Crystal System (#)'])\n",
        "runTest(clf,X,y,plotTest=False)"
      ],
      "metadata": {
        "colab": {
          "base_uri": "https://localhost:8080/",
          "height": 411
        },
        "id": "nwX_PPLgXTAz",
        "outputId": "0b3ae366-271d-479d-b23e-06e34862417f"
      },
      "execution_count": 28,
      "outputs": [
        {
          "output_type": "stream",
          "name": "stdout",
          "text": [
            "training score 0.5422535211267606\n",
            "testing score 0.4594594594594595\n"
          ]
        },
        {
          "output_type": "display_data",
          "data": {
            "text/plain": [
              "<Figure size 576x432 with 1 Axes>"
            ],
            "image/png": "[encoded data removed]"
          },
          "metadata": {
            "needs_background": "light"
          }
        }
      ]
    },
    {
      "cell_type": "code",
      "source": [
        "\n",
        "ord_feat = ['Li','Mn','Si','O','Fe','Co']\n",
        "\n",
        "X = np.array(data_rebalanced[ord_feat])\n",
        "y = np.array(data_rebalanced['Crystal System (#)'])\n",
        "runTest(clf,X,y,plotTest=False)"
      ],
      "metadata": {
        "colab": {
          "base_uri": "https://localhost:8080/",
          "height": 411
        },
        "id": "9HTK_I53elkQ",
        "outputId": "16f049c3-2852-433d-bf44-315c4586f7f5"
      },
      "execution_count": 29,
      "outputs": [
        {
          "output_type": "stream",
          "name": "stdout",
          "text": [
            "training score 0.4859154929577465\n",
            "testing score 0.44594594594594594\n"
          ]
        },
        {
          "output_type": "display_data",
          "data": {
            "text/plain": [
              "<Figure size 576x432 with 1 Axes>"
            ],
            "image/png": "[encoded data removed]"
          },
          "metadata": {
            "needs_background": "light"
          }
        }
      ]
    },
    {
      "cell_type": "code",
      "source": [
        "    ord_feat = ['Spacegroup (ordinal)','Formation Energy (eV)','E Above Hull (eV)','Band Gap (eV)',\n",
        "            'Nsites','Density (gm/cc)','Volume','Has Bandstructure',\n",
        "            'Li','Mn','Si','O','Fe','Co'\n",
        "           ]\n",
        "    \n",
        "    X = data_rebalanced[ord_feat]\n",
        "    y = data_rebalanced['Crystal System (#)']\n",
        "\n",
        "    # 80% training data and 20% testing\n",
        "    Xtrain, Xtest, ytrain, ytest = train_test_split(X, y, test_size=0.2,shuffle=True, random_state=1)\n",
        "    dtree = DecisionTreeClassifier()\n",
        "    dtree.fit(Xtrain,ytrain)\n",
        "    yp = dtree.predict(Xtest)\n",
        "\n",
        "    accuracy=accuracy_score(yp,ytest)\n",
        "\n",
        "    macro_precision=precision_score(yp,ytest,average='macro')\n",
        "    micro_precision=precision_score(yp,ytest,average='micro')\n",
        "\n",
        "    macro_recall=recall_score(yp,ytest,average='macro')\n",
        "    micro_recall=recall_score(yp,ytest,average='micro')\n",
        "\n",
        "    macro_f1=f1_score(yp,ytest,average='macro')\n",
        "    micro_f1=f1_score(yp,ytest,average='micro')\n",
        "\n",
        "    results.append([titles[i],accuracy,macro_precision,micro_precision,macro_recall,micro_recall,macro_f1,micro_f1])"
      ],
      "metadata": {
        "id": "RBLs3c2jeoOO",
        "colab": {
          "base_uri": "https://localhost:8080/",
          "height": 245
        },
        "outputId": "9b28fc8f-80a2-473b-8001-ff7893140cfe"
      },
      "execution_count": 30,
      "outputs": [
        {
          "output_type": "error",
          "ename": "NameError",
          "evalue": "ignored",
          "traceback": [
            "\u001b[0;31m---------------------------------------------------------------------------\u001b[0m",
            "\u001b[0;31mNameError\u001b[0m                                 Traceback (most recent call last)",
            "\u001b[0;32m<ipython-input-30-7b067dac3312>\u001b[0m in \u001b[0;36m<module>\u001b[0;34m()\u001b[0m\n\u001b[1;32m      8\u001b[0m \u001b[0;34m\u001b[0m\u001b[0m\n\u001b[1;32m      9\u001b[0m \u001b[0;31m# 80% training data and 20% testing\u001b[0m\u001b[0;34m\u001b[0m\u001b[0;34m\u001b[0m\u001b[0;34m\u001b[0m\u001b[0m\n\u001b[0;32m---> 10\u001b[0;31m \u001b[0mXtrain\u001b[0m\u001b[0;34m,\u001b[0m \u001b[0mXtest\u001b[0m\u001b[0;34m,\u001b[0m \u001b[0mytrain\u001b[0m\u001b[0;34m,\u001b[0m \u001b[0mytest\u001b[0m \u001b[0;34m=\u001b[0m \u001b[0mtrain_test_split\u001b[0m\u001b[0;34m(\u001b[0m\u001b[0mX\u001b[0m\u001b[0;34m,\u001b[0m \u001b[0my\u001b[0m\u001b[0;34m,\u001b[0m \u001b[0mtest_size\u001b[0m\u001b[0;34m=\u001b[0m\u001b[0;36m0.2\u001b[0m\u001b[0;34m,\u001b[0m\u001b[0mshuffle\u001b[0m\u001b[0;34m=\u001b[0m\u001b[0;32mTrue\u001b[0m\u001b[0;34m,\u001b[0m \u001b[0mrandom_state\u001b[0m\u001b[0;34m=\u001b[0m\u001b[0;36m1\u001b[0m\u001b[0;34m)\u001b[0m\u001b[0;34m\u001b[0m\u001b[0;34m\u001b[0m\u001b[0m\n\u001b[0m\u001b[1;32m     11\u001b[0m \u001b[0mdtree\u001b[0m \u001b[0;34m=\u001b[0m \u001b[0mDecisionTreeClassifier\u001b[0m\u001b[0;34m(\u001b[0m\u001b[0;34m)\u001b[0m\u001b[0;34m\u001b[0m\u001b[0;34m\u001b[0m\u001b[0m\n\u001b[1;32m     12\u001b[0m \u001b[0mdtree\u001b[0m\u001b[0;34m.\u001b[0m\u001b[0mfit\u001b[0m\u001b[0;34m(\u001b[0m\u001b[0mXtrain\u001b[0m\u001b[0;34m,\u001b[0m\u001b[0mytrain\u001b[0m\u001b[0;34m)\u001b[0m\u001b[0;34m\u001b[0m\u001b[0;34m\u001b[0m\u001b[0m\n",
            "\u001b[0;31mNameError\u001b[0m: name 'train_test_split' is not defined"
          ]
        }
      ]
    },
    {
      "cell_type": "code",
      "source": [
        "from sklearn.metrics import classification_report, confusion_matrix, accuracy_score\n",
        "result = confusion_matrix(y_test, ypred)"
      ],
      "metadata": {
        "id": "YLL_DpGnLD7e"
      },
      "execution_count": null,
      "outputs": []
    },
    {
      "cell_type": "code",
      "source": [
        "from sklearn import neighbors\n",
        "knn_clf = neighbors.KNeighborsClassifier(n_neighbors=5)\n",
        "\n",
        "\n",
        "ord_feat = ['Spacegroup (ordinal)','Formation Energy (eV)','E Above Hull (eV)','Band Gap (eV)',\n",
        "            'Nsites','Density (gm/cc)','Volume','Has Bandstructure',\n",
        "            'Li','Mn','Si','O','Fe','Co'\n",
        "           ]\n",
        "\n",
        "X_train, X_test, y_train, y_test = train_test_split(data_rebalanced[ord_feat], y,test_size=0.2, random_state = 1)\n",
        "#knn_clf=KNeighborsClassifier()\n",
        "knn_clf.fit(X_train,y_train)\n",
        "ypred=knn_clf.predict(X_test) #These are the predicted output values"
      ],
      "metadata": {
        "id": "860uovEmTalf"
      },
      "execution_count": null,
      "outputs": []
    },
    {
      "cell_type": "code",
      "source": [
        "from sklearn.metrics import classification_report, confusion_matrix, accuracy_score\n",
        "result = confusion_matrix(y_test, ypred)\n",
        "print('Confusion Matrix:')\n",
        "print(result)\n",
        "result1 = classification_report(y_test, ypred)\n",
        "print('Classification Report:',)\n",
        "print(result1)\n",
        "result2 = accuracy_score(y_test,ypred)\n",
        "print('Accuracy:',result2)"
      ],
      "metadata": {
        "id": "B_g6ZIRlVwsR"
      },
      "execution_count": null,
      "outputs": []
    },
    {
      "cell_type": "code",
      "source": [
        "pip install --upgrade scikit-learn\n",
        "import scikit-learn\n",
        "scikit-learn.__version__"
      ],
      "metadata": {
        "id": "C2Mif9psb1xH"
      },
      "execution_count": null,
      "outputs": []
    },
    {
      "cell_type": "code",
      "source": [
        "import matplotlib.pyplot as plt\n",
        "import seaborn as sns\n",
        "from matplotlib.colors import ListedColormap\n",
        "from sklearn import neighbors, datasets\n",
        "from sklearn.inspection import DecisionBoundaryDisplay\n",
        "\n",
        "n_neighbors = 15\n",
        "\n",
        "# Create color maps\n",
        "cmap_light = ListedColormap([\"orange\", \"cyan\", \"cornflowerblue\"])\n",
        "cmap_bold = [\"darkorange\", \"c\", \"darkblue\"]\n",
        "\n",
        "for weights in [\"uniform\", \"distance\"]:\n",
        "    # we create an instance of Neighbours Classifier and fit the data.\n",
        "    clf = neighbors.KNeighborsClassifier(n_neighbors, weights=weights)\n",
        "    clf.fit(X, y)\n",
        "\n",
        "    _, ax = plt.subplots()\n",
        "    DecisionBoundaryDisplay.from_estimator(\n",
        "        clf,\n",
        "        X,\n",
        "        cmap=cmap_light,\n",
        "        ax=ax,\n",
        "        response_method=\"predict\",\n",
        "        plot_method=\"pcolormesh\",\n",
        "        xlabel=iris.feature_names[0],\n",
        "        ylabel=iris.feature_names[1],\n",
        "        shading=\"auto\",\n",
        "    )\n",
        "\n",
        "    # Plot also the training points\n",
        "    sns.scatterplot(\n",
        "        x=X[:, 0],\n",
        "        y=X[:, 1],\n",
        "        hue=iris.target_names[y],\n",
        "        palette=cmap_bold,\n",
        "        alpha=1.0,\n",
        "        edgecolor=\"black\",\n",
        "    )\n",
        "    plt.title(\n",
        "        \"3-Class classification (k = %i, weights = '%s')\" % (n_neighbors, weights)\n",
        "    )\n",
        "\n",
        "plt.show()"
      ],
      "metadata": {
        "id": "HNB598kuW1pC"
      },
      "execution_count": null,
      "outputs": []
    },
    {
      "cell_type": "code",
      "source": [
        "import sklearn\n",
        "sklearn.__version__"
      ],
      "metadata": {
        "id": "BPcW0L0CYf3w"
      },
      "execution_count": null,
      "outputs": []
    },
    {
      "cell_type": "code",
      "source": [
        "from sklearn.tree import DecisionTreeClassifier\n",
        "method = DecisionTreeClassifier()\n",
        "ord_feat = ['Formation Energy (eV)','E Above Hull (eV)','Band Gap (eV)',\n",
        "            'Nsites','Density (gm/cc)','Volume','Has Bandstructure',\n",
        "            'Spacegroup (ordinal)','Li','Mn','Si','O','Fe','Co'\n",
        "           ]\n",
        "model = method.fit(train[ord_feat].to_numpy(),train['Crystal System'].to_numpy())\n",
        "\n",
        "from sklearn.metrics import accuracy_score, f1_score, precision_score, recall_score\n",
        "from sklearn.tree import DecisionTreeClassifier\n",
        "from sklearn import tree\n",
        "\n",
        "\n",
        "cn=['monoclinic', 'orthorhombic', 'triclinic']\n",
        "fig, axes = plt.subplots(nrows = 1,ncols = 1,figsize = (4,4), dpi=900)\n",
        "tree.plot_tree(model,feature_names = ord_feat, class_names=cn,filled = True)\n"
      ],
      "metadata": {
        "id": "geXt-cVOblJQ"
      },
      "execution_count": null,
      "outputs": []
    },
    {
      "cell_type": "code",
      "source": [
        "from sklearn.tree import DecisionTreeClassifier\n",
        "method = DecisionTreeClassifier()\n",
        "ord_feat = ['Formation Energy (eV)','E Above Hull (eV)','Band Gap (eV)',\n",
        "            'Nsites','Density (gm/cc)','Volume','Has Bandstructure',\n",
        "            'Li','Mn','Si','O','Fe','Co'\n",
        "           ]\n",
        "model = method.fit(train[ord_feat].to_numpy(),train['Crystal System'].to_numpy())\n",
        "\n",
        "from sklearn.metrics import accuracy_score, f1_score, precision_score, recall_score\n",
        "from sklearn.tree import DecisionTreeClassifier\n",
        "from sklearn import tree\n",
        "\n",
        "\n",
        "cn=['monoclinic', 'orthorhombic', 'triclinic']\n",
        "fig, axes = plt.subplots(nrows = 1,ncols = 1,figsize = (4,4), dpi=900)\n",
        "tree.plot_tree(model,feature_names = ord_feat, class_names=cn,filled = True)"
      ],
      "metadata": {
        "id": "ASHPP8S3oq2G"
      },
      "execution_count": null,
      "outputs": []
    },
    {
      "cell_type": "code",
      "source": [
        "# Plot KNearestNeighbors\n",
        "from sklearn import neighbors\n",
        "clf = neighbors.KNeighborsClassifier(n_neighbors=14)\n",
        "#data_rebalanced['Spacegroup (ordinal)'] = pd.factorize(data_rebalanced['Spacegroup'])[0]\n",
        "\n",
        "#ord_feat = ['Spacegroup (ordinal)','Formation Energy (eV)','E Above Hull (eV)','Band Gap (eV)',\n",
        "#            'Nsites','Density (gm/cc)','Volume','Has Bandstructure',\n",
        "#            'Li','Mn','Si','O','Fe','Co'\n",
        "#           ]\n",
        "\n",
        "ord_feat = ['Density (gm/cc)','Volume']\n",
        "\n",
        "X = np.array(data_rebalanced[ord_feat])\n",
        "y = np.array(data_rebalanced['Crystal System (#)'])\n",
        "runTest(clf,X,y,plotTest=False)"
      ],
      "metadata": {
        "id": "cXcGj0eXpjNO"
      },
      "execution_count": null,
      "outputs": []
    },
    {
      "cell_type": "code",
      "source": [
        ""
      ],
      "metadata": {
        "id": "ew38qNtRuC7B"
      },
      "execution_count": null,
      "outputs": []
    }
  ]
}